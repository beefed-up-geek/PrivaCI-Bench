{
 "cells": [
  {
   "cell_type": "code",
   "execution_count": 4,
   "id": "437436d1",
   "metadata": {},
   "outputs": [],
   "source": [
    "import os\n",
    "import math\n",
    "import matplotlib.pyplot as plt\n",
    "from dotenv import load_dotenv\n",
    "\n",
    "load_dotenv()\n",
    "# Attempt to import openai for GPT interactions. If unavailable, the notebook will simulate a response.\n",
    "try:\n",
    "    import openai\n",
    "    openai.api_key = os.getenv('OPENAI_API_KEY')\n",
    "except ImportError:\n",
    "    openai = None\n"
   ]
  },
  {
   "cell_type": "code",
   "execution_count": 10,
   "id": "57a9b4c9",
   "metadata": {},
   "outputs": [],
   "source": [
    "\n",
    "kb_dataset = None\n",
    "case_dataset = None\n",
    "\n",
    "try:\n",
    "    from datasets import load_from_disk  # This requires the `datasets` library to be installed\n",
    "    kb_ds = load_from_disk('../HF_cache/KBs')\n",
    "    case_ds = load_from_disk('../HF_cache/cases')\n",
    "    # Retrieve the GDPR split from each dataset\n",
    "    if isinstance(kb_ds, dict):\n",
    "        kb_dataset = kb_ds.get('GDPR', None)\n",
    "    else:\n",
    "        kb_dataset = kb_ds['GDPR'] if 'GDPR' in kb_ds else None\n",
    "\n",
    "    if isinstance(case_ds, dict):\n",
    "        case_dataset = case_ds.get('GDPR', None)\n",
    "    else:\n",
    "        case_dataset = case_ds['GDPR'] if 'GDPR' in case_ds else None\n",
    "except Exception as e:\n",
    "    print(f\"Could not load actual datasets: {e}\")"
   ]
  },
  {
   "cell_type": "code",
   "execution_count": 11,
   "id": "05afcdca",
   "metadata": {},
   "outputs": [],
   "source": [
    "\n",
    "# Build a dictionary for the knowledge base where keys are lowercase regulation IDs\n",
    "kb_dict = {item['regulation_id'].lower(): item for item in kb_dataset}\n",
    "\n",
    "def retrieve_laws(law_ids, kb_dict):\n",
    "    \"\"\"\n",
    "    Given a list of law identifiers, look up the corresponding regulation entries in the knowledge base.\n",
    "    Returns a list of dictionaries containing 'regulation_id' and 'regulation_content'.\n",
    "    \"\"\"\n",
    "    related = []\n",
    "    for law_id in law_ids:\n",
    "        key = law_id.lower()\n",
    "        if key in kb_dict:\n",
    "            related.append(kb_dict[key])\n",
    "    return related\n"
   ]
  },
  {
   "cell_type": "code",
   "execution_count": 12,
   "id": "53f96283",
   "metadata": {},
   "outputs": [
    {
     "data": {
      "text/plain": [
       "({'norm_type': 'prohibit',\n",
       "  'sender': ['Meta Platforms Ireland Limited'],\n",
       "  'sender_role': ['Data Controller'],\n",
       "  'recipient': ['Internal Systems'],\n",
       "  'recipient_role': ['Data Storage'],\n",
       "  'subject': ['Users'],\n",
       "  'subject_role': ['Data Subjects'],\n",
       "  'information_type': ['Passwords'],\n",
       "  'consent_form': 'None',\n",
       "  'purpose': 'Data Storage',\n",
       "  'followed_articles': [],\n",
       "  'violated_articles': ['Article 32', 'Article 33', 'Article 34'],\n",
       "  'case_content': 'Meta Platforms Ireland Limited (MPIL) stored user passwords on their internal systems without encryption. Although external parties did not have access to these passwords, the lack of encryption increased the risk of misuse. Additionally, MPIL did not report or document a data breach related to the storage of these unencrypted passwords.'},\n",
       " ['Article 32', 'Article 33', 'Article 34'])"
      ]
     },
     "execution_count": 12,
     "metadata": {},
     "output_type": "execute_result"
    }
   ],
   "source": [
    "\n",
    "# Choose which case to examine from the dataset. Modify `case_index` to explore different cases.\n",
    "case_index = 0\n",
    "case_entry = case_dataset[case_index]\n",
    "\n",
    "# Collect the list of law article identifiers referenced by the case (followed and violated articles)\n",
    "law_ids = list(case_entry.get('followed_articles', [])) + list(case_entry.get('violated_articles', []))\n",
    "\n",
    "# Retrieve the law texts associated with these identifiers\n",
    "related_laws = retrieve_laws(law_ids, kb_dict)\n",
    "\n",
    "# Display the case details and associated law identifiers\n",
    "case_entry, law_ids"
   ]
  },
  {
   "cell_type": "code",
   "execution_count": 13,
   "id": "26284ba1",
   "metadata": {},
   "outputs": [
    {
     "data": {
      "image/png": "[encoded data removed]",
      "text/plain": [
       "<Figure size 640x480 with 1 Axes>"
      ]
     },
     "metadata": {},
     "output_type": "display_data"
    }
   ],
   "source": [
    "\n",
    "# Build a simple graph representation connecting the case to each related law article\n",
    "case_node = f\"case_{case_index}\"\n",
    "graph = {case_node: law_ids}\n",
    "for law_id in law_ids:\n",
    "    graph[law_id] = []  # Initialize an empty adjacency list for each law node\n",
    "\n",
    "# Visualize the graph using matplotlib\n",
    "import matplotlib.pyplot as plt\n",
    "import math\n",
    "\n",
    "# Assign positions: place the case at the center and laws evenly around a circle\n",
    "positions = {}\n",
    "positions[case_node] = (0, 0)\n",
    "num_laws = len(law_ids)\n",
    "for idx, law_id in enumerate(law_ids):\n",
    "    angle = 2 * math.pi * idx / max(1, num_laws)\n",
    "    positions[law_id] = (math.cos(angle), math.sin(angle))\n",
    "\n",
    "# Create the plot\n",
    "fig, ax = plt.subplots()\n",
    "\n",
    "# Draw edges from the case node to each law node\n",
    "for law_id in law_ids:\n",
    "    x_vals = [positions[case_node][0], positions[law_id][0]]\n",
    "    y_vals = [positions[case_node][1], positions[law_id][1]]\n",
    "    ax.plot(x_vals, y_vals)  # Using default line color\n",
    "\n",
    "# Draw nodes\n",
    "for node, (x, y) in positions.items():\n",
    "    ax.scatter(x, y)  # Using default point color\n",
    "    ax.text(x, y, node, ha='center', va='center')\n",
    "\n",
    "ax.set_title('Simple graph connecting case to related GDPR articles')\n",
    "ax.axis('off')\n",
    "plt.show()\n"
   ]
  },
  {
   "cell_type": "code",
   "execution_count": 18,
   "id": "645cc3af",
   "metadata": {},
   "outputs": [
    {
     "name": "stdout",
     "output_type": "stream",
     "text": [
      "You are given the following data flow from the GDPR compliance dataset:\n",
      "Sender: ['Meta Platforms Ireland Limited'] (['Data Controller'])\n",
      "Recipient: ['Internal Systems'] (['Data Storage'])\n",
      "Subject: ['Users'] (['Data Subjects'])\n",
      "Information Type: ['Passwords']\n",
      "Consent: None\n",
      "Purpose: Data Storage\n",
      "\n",
      "The following GDPR provisions may apply:\n",
      "Article 32: \"Security of processing\"\n",
      "Article 33: \"Notification of a personal data breach to the supervisory authority\"\n",
      "Article 34: \"Communication of a personal data breach to the data subject\"\n",
      "\n",
      "Is this data transfer permitted, prohibited, or not applicable under the GDPR? Answer with 'permitted', 'prohibited', or 'not applicable' and briefly explain your reasoning.\n"
     ]
    }
   ],
   "source": [
    "\n",
    "# Construct a prompt that includes CI elements and the relevant GDPR provisions\n",
    "prompt_lines = [\n",
    "    \"You are given the following data flow from the GDPR compliance dataset:\",\n",
    "    f\"Sender: {case_entry['sender']} ({case_entry['sender_role']})\",\n",
    "    f\"Recipient: {case_entry['recipient']} ({case_entry['recipient_role']})\",\n",
    "    f\"Subject: {case_entry['subject']} ({case_entry['subject_role']})\",\n",
    "    f\"Information Type: {case_entry['information_type']}\",\n",
    "    f\"Consent: {case_entry['consent_form']}\",\n",
    "    f\"Purpose: {case_entry['purpose']}\",\n",
    "    \"\",\n",
    "    \"The following GDPR provisions may apply:\"\n",
    "]\n",
    "\n",
    "for law in related_laws:\n",
    "    prompt_lines.append(f\"{law['regulation_id']}: {law['regulation_content']}\")\n",
    "\n",
    "prompt_lines.append(\"\")\n",
    "prompt_lines.append(\"Is this data transfer permitted, prohibited, or not applicable under the GDPR? Answer with 'permitted', 'prohibited', or 'not applicable' and briefly explain your reasoning.\")\n",
    "\n",
    "prompt = \"\\n\".join(prompt_lines)\n",
    "\n",
    "# Show the prompt so you can inspect it before sending to the model\n",
    "print(prompt)\n"
   ]
  },
  {
   "cell_type": "code",
   "execution_count": null,
   "id": "c033bde0",
   "metadata": {},
   "outputs": [
    {
     "data": {
      "text/plain": [
       "'An error occurred calling the OpenAI API: \\n\\nYou tried to access openai.ChatCompletion, but this is no longer supported in openai>=1.0.0 - see the README at https://github.com/openai/openai-python for the API.\\n\\nYou can run `openai migrate` to automatically upgrade your codebase to use the 1.0.0 interface. \\n\\nAlternatively, you can pin your installation to the old version, e.g. `pip install openai==0.28`\\n\\nA detailed migration guide is available here: https://github.com/openai/openai-python/discussions/742\\n'"
      ]
     },
     "execution_count": 19,
     "metadata": {},
     "output_type": "execute_result"
    }
   ],
   "source": [
    "\n",
    "# Query GPT-4o-mini with the constructed prompt.\n",
    "# If the `openai` library is not available (due to environment restrictions), simulate a response.\n",
    "\n",
    "if openai is not None:\n",
    "    try:\n",
    "        response = openai.ChatCompletion.create(\n",
    "            model='gpt-4o-mini',\n",
    "            messages=[\n",
    "                {'role': 'system', 'content': 'You are a helpful legal assistant.'},\n",
    "                {'role': 'user', 'content': prompt}\n",
    "            ],\n",
    "            max_tokens=256,\n",
    "            temperature=0.2\n",
    "        )\n",
    "        answer = response['choices'][0]['message']['content']\n",
    "    except Exception as e:\n",
    "        answer = f\"An error occurred calling the OpenAI API: {e}\"\n",
    "else:\n",
    "    # Simulate a plausible model response if OpenAI is unavailable\n",
    "    if 'consent' in case_entry['consent_form'].lower() and case_entry['consent_form'].lower() != 'no':\n",
    "        answer = \"permitted — because the data subject has given consent under GDPR Article 6(1)(a), the transfer is allowed.\"\n",
    "    else:\n",
    "        answer = \"prohibited — without consent or another lawful basis, transferring personal health data would violate GDPR.\"\n",
    "\n",
    "print(answer)\n"
   ]
  }
 ],
 "metadata": {
  "kernelspec": {
   "display_name": "multi-agent",
   "language": "python",
   "name": "python3"
  },
  "language_info": {
   "codemirror_mode": {
    "name": "ipython",
    "version": 3
   },
   "file_extension": ".py",
   "mimetype": "text/x-python",
   "name": "python",
   "nbconvert_exporter": "python",
   "pygments_lexer": "ipython3",
   "version": "3.13.5"
  }
 },
 "nbformat": 4,
 "nbformat_minor": 5
}
